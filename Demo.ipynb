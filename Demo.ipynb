{
  "nbformat": 4,
  "nbformat_minor": 0,
  "metadata": {
    "colab": {
      "provenance": [],
      "mount_file_id": "1fAlADz7MpdbLy-z6BtF3CElS6Orq-eVo",
      "authorship_tag": "ABX9TyOiUBxQduFXzTfRSGkX1Svl",
      "include_colab_link": true
    },
    "kernelspec": {
      "name": "python3",
      "display_name": "Python 3"
    },
    "language_info": {
      "name": "python"
    }
  },
  "cells": [
    {
      "cell_type": "markdown",
      "metadata": {
        "id": "view-in-github",
        "colab_type": "text"
      },
      "source": [
        "<a href=\"https://colab.research.google.com/github/jay05Hawk/Perceptron/blob/main/Demo.ipynb\" target=\"_parent\"><img src=\"https://colab.research.google.com/assets/colab-badge.svg\" alt=\"Open In Colab\"/></a>"
      ]
    },
    {
      "cell_type": "code",
      "metadata": {
        "id": "CYkNr-Gp1OJ1",
        "colab": {
          "base_uri": "https://localhost:8080/"
        },
        "outputId": "82a741bb-9c63-4885-8522-520435d0d28d"
      },
      "source": [
        "!ls\n"
      ],
      "execution_count": null,
      "outputs": [
        {
          "output_type": "stream",
          "name": "stdout",
          "text": [
            "drive  sample_data\n"
          ]
        }
      ]
    },
    {
      "cell_type": "code",
      "metadata": {
        "id": "pirzk6hh2REw"
      },
      "source": [
        "ROOT =\"/content/drive/MyDrive/StarCoder/DemoPractice\""
      ],
      "execution_count": null,
      "outputs": []
    },
    {
      "cell_type": "code",
      "metadata": {
        "id": "5RR3KNjO2d7g"
      },
      "source": [
        "import os\n",
        "\n",
        "os.chdir(ROOT)"
      ],
      "execution_count": null,
      "outputs": []
    },
    {
      "cell_type": "code",
      "metadata": {
        "colab": {
          "base_uri": "https://localhost:8080/"
        },
        "id": "O6AWpucglRWv",
        "outputId": "677dc295-cbb9-4e68-e00f-a11e1f849639"
      },
      "source": [
        "!ls"
      ],
      "execution_count": null,
      "outputs": [
        {
          "output_type": "stream",
          "name": "stdout",
          "text": [
            "Demo.ipynb  test.txt\n"
          ]
        }
      ]
    },
    {
      "cell_type": "code",
      "metadata": {
        "id": "UD7i6suLm-hX"
      },
      "source": [
        "assert ROOT == os.getcwd()"
      ],
      "execution_count": null,
      "outputs": []
    },
    {
      "cell_type": "code",
      "metadata": {
        "colab": {
          "base_uri": "https://localhost:8080/",
          "height": 35
        },
        "id": "z1Osluwwng9Y",
        "outputId": "83e49123-2611-469b-fda3-af59490c4419"
      },
      "source": [
        "os.getcwd()"
      ],
      "execution_count": null,
      "outputs": [
        {
          "output_type": "execute_result",
          "data": {
            "application/vnd.google.colaboratory.intrinsic+json": {
              "type": "string"
            },
            "text/plain": [
              "'/content/drive/MyDrive/StarCoder/DemoPractice'"
            ]
          },
          "metadata": {},
          "execution_count": 6
        }
      ]
    },
    {
      "cell_type": "code",
      "metadata": {
        "id": "gMIC64KUntqX"
      },
      "source": [
        "with open(\"test.txt\",\"w\") as f:\n",
        "  f.writelines(\"hello colab\")"
      ],
      "execution_count": null,
      "outputs": []
    },
    {
      "cell_type": "markdown",
      "metadata": {
        "id": "41LnVJa0ocmR"
      },
      "source": [
        "#Implimentation of perceptron"
      ]
    },
    {
      "cell_type": "code",
      "metadata": {
        "id": "QVPn01YHolhH"
      },
      "source": [
        "import matplotlib.pyplot as plt\n",
        "import numpy as np\n",
        "import pandas as pd\n",
        "import joblib #FOR SAVING MY MODEL AS A BINARY FILE --binary file storage Also use sklearn\n",
        "from matplotlib.colors import ListedColormap\n",
        "plt.style.use(\"fivethirtyeight\")# THIS IS A STYLE OF A GRAPHS"
      ],
      "execution_count": null,
      "outputs": []
    },
    {
      "cell_type": "code",
      "metadata": {
        "colab": {
          "base_uri": "https://localhost:8080/"
        },
        "id": "Fekf_imtJAcB",
        "outputId": "e589a5e9-6448-407d-e4bd-40ade6faf3ed"
      },
      "source": [
        "1e-4"
      ],
      "execution_count": null,
      "outputs": [
        {
          "output_type": "execute_result",
          "data": {
            "text/plain": [
              "0.0001"
            ]
          },
          "metadata": {},
          "execution_count": 9
        }
      ]
    },
    {
      "cell_type": "code",
      "metadata": {
        "id": "KnmuXRewpkbE"
      },
      "source": [
        "class Perceptron:\n",
        "  def __init__(self , eta ,epochs): #eta -learning,\n",
        "    #np.random.seed(42)\n",
        "    self.weight =np.random.random(3)*1e-4 # small weight initialize\n",
        "    print(f\"this is initial weight befor traing : {self.weights}\")\n",
        "    self.eta =eta\n",
        "    self.epochs = epochs\n",
        "\n",
        "    \n",
        "\n",
        "  def activationFunction(self, inputs ,weights):\n",
        "      z = np.dot(inputs,weights) # z= w * x\n",
        "      return np.where(z>0 ,1,0)  # z is greater then zero pass 1 else 0\n",
        "\n",
        "  def fit(self,x,y):\n",
        "    self.x =x\n",
        "    self.y =y\n",
        "    x_with_bias = np.c_[self.x ,-np.ones((len(self.x, 1)))] # CONCATINATION\n",
        "    print(f\"x with bias : {x_with_bias}\")\n",
        "    for epoch in range(self.epochs):\n",
        "      print(\"--\"*10)\n",
        "      print(f\"for epochs: {epochs}\")\n",
        "      print(\"--\"*10)\n",
        "\n",
        "      y_hat =self.activationFunction(x_with_bias, self.weight) #FORWORD PROPAGATION\n",
        "      print(f\"predicted value after forword pass: \\n{y_hat}\")\n",
        "      self.error =self.y -y_hat\n",
        "      print(f\"Error: \\n{self.error}\")\n",
        "      self.weight = self.weight + self.eta * np.dot(x_with_bias.T , self.error) #BACKWORD PROPAGATION\n",
        "      print(f\"Updated weight after epoch :\\n{epochs}/{self.epochs} :\\n {self.weight}\")\n",
        "      print(\"#####\"*10)\n",
        "\n",
        "\n",
        "\n",
        "  def Predict(self ,x):\n",
        "    x_with_bias =np.c[x ,-np.ones((len(x),1))]\n",
        "    return self.activationfunction(x_with_bias ,self.weight)\n",
        "\n",
        "  def total_loss(self):\n",
        "    total_loss =np.sum(self.error)\n",
        "    print(f\"total loss :{total_loss}\")\n",
        "    return total_loss"
      ],
      "execution_count": null,
      "outputs": []
    },
    {
      "cell_type": "code",
      "metadata": {
        "id": "hfMYbzKrya2t"
      },
      "source": [
        "def prepare_data(df):\n",
        "  x= df.drop(\"y\", axis=1)\n",
        "\n",
        "  y=df[\"y\"]\n",
        "  return x,y"
      ],
      "execution_count": null,
      "outputs": []
    },
    {
      "cell_type": "code",
      "metadata": {
        "colab": {
          "base_uri": "https://localhost:8080/",
          "height": 173
        },
        "id": "K1hpgfzmTRV3",
        "outputId": "5a464681-962b-49df-a453-7de47ebd5174"
      },
      "source": [
        "AND ={\n",
        "    \"x1\" :[0,0,1,1],\n",
        "    \"x2\" :[0,1,0,1],\n",
        "    \"y\"  :[0,0,0,1]\n",
        "}\n",
        "\n",
        "df =pd.DataFrame(AND)\n",
        "df"
      ],
      "execution_count": null,
      "outputs": [
        {
          "output_type": "execute_result",
          "data": {
            "text/html": [
              "<div>\n",
              "<style scoped>\n",
              "    .dataframe tbody tr th:only-of-type {\n",
              "        vertical-align: middle;\n",
              "    }\n",
              "\n",
              "    .dataframe tbody tr th {\n",
              "        vertical-align: top;\n",
              "    }\n",
              "\n",
              "    .dataframe thead th {\n",
              "        text-align: right;\n",
              "    }\n",
              "</style>\n",
              "<table border=\"1\" class=\"dataframe\">\n",
              "  <thead>\n",
              "    <tr style=\"text-align: right;\">\n",
              "      <th></th>\n",
              "      <th>x1</th>\n",
              "      <th>x2</th>\n",
              "      <th>y</th>\n",
              "    </tr>\n",
              "  </thead>\n",
              "  <tbody>\n",
              "    <tr>\n",
              "      <th>0</th>\n",
              "      <td>0</td>\n",
              "      <td>0</td>\n",
              "      <td>0</td>\n",
              "    </tr>\n",
              "    <tr>\n",
              "      <th>1</th>\n",
              "      <td>0</td>\n",
              "      <td>1</td>\n",
              "      <td>0</td>\n",
              "    </tr>\n",
              "    <tr>\n",
              "      <th>2</th>\n",
              "      <td>1</td>\n",
              "      <td>0</td>\n",
              "      <td>0</td>\n",
              "    </tr>\n",
              "    <tr>\n",
              "      <th>3</th>\n",
              "      <td>1</td>\n",
              "      <td>1</td>\n",
              "      <td>1</td>\n",
              "    </tr>\n",
              "  </tbody>\n",
              "</table>\n",
              "</div>"
            ],
            "text/plain": [
              "   x1  x2  y\n",
              "0   0   0  0\n",
              "1   0   1  0\n",
              "2   1   0  0\n",
              "3   1   1  1"
            ]
          },
          "metadata": {},
          "execution_count": 12
        }
      ]
    },
    {
      "cell_type": "code",
      "metadata": {
        "colab": {
          "base_uri": "https://localhost:8080/",
          "height": 351
        },
        "id": "xMdDbin2WTye",
        "outputId": "4317e60b-168c-4ef5-a49f-5b93d76a3945"
      },
      "source": [
        "x,y = prepare_data(df)\n",
        "\n",
        "ETA =0.3 #0 and 1\n",
        "EPOCHS = 10\n",
        "\n",
        "model_and = Perceptron(eta=ETA ,epochs=EPOCHS)\n",
        "model.fit(x,y)\n",
        "_=model_and.total_loss()"
      ],
      "execution_count": null,
      "outputs": [
        {
          "output_type": "error",
          "ename": "AttributeError",
          "evalue": "ignored",
          "traceback": [
            "\u001b[0;31m---------------------------------------------------------------------------\u001b[0m",
            "\u001b[0;31mAttributeError\u001b[0m                            Traceback (most recent call last)",
            "\u001b[0;32m<ipython-input-13-66a6c6cf0464>\u001b[0m in \u001b[0;36m<module>\u001b[0;34m()\u001b[0m\n\u001b[1;32m      4\u001b[0m \u001b[0mEPOCHS\u001b[0m \u001b[0;34m=\u001b[0m \u001b[0;36m10\u001b[0m\u001b[0;34m\u001b[0m\u001b[0;34m\u001b[0m\u001b[0m\n\u001b[1;32m      5\u001b[0m \u001b[0;34m\u001b[0m\u001b[0m\n\u001b[0;32m----> 6\u001b[0;31m \u001b[0mmodel_and\u001b[0m \u001b[0;34m=\u001b[0m \u001b[0mPerceptron\u001b[0m\u001b[0;34m(\u001b[0m\u001b[0meta\u001b[0m\u001b[0;34m=\u001b[0m\u001b[0mETA\u001b[0m \u001b[0;34m,\u001b[0m\u001b[0mepochs\u001b[0m\u001b[0;34m=\u001b[0m\u001b[0mEPOCHS\u001b[0m\u001b[0;34m)\u001b[0m\u001b[0;34m\u001b[0m\u001b[0;34m\u001b[0m\u001b[0m\n\u001b[0m\u001b[1;32m      7\u001b[0m \u001b[0mmodel\u001b[0m\u001b[0;34m.\u001b[0m\u001b[0mfit\u001b[0m\u001b[0;34m(\u001b[0m\u001b[0mx\u001b[0m\u001b[0;34m,\u001b[0m\u001b[0my\u001b[0m\u001b[0;34m)\u001b[0m\u001b[0;34m\u001b[0m\u001b[0;34m\u001b[0m\u001b[0m\n\u001b[1;32m      8\u001b[0m \u001b[0m_\u001b[0m\u001b[0;34m=\u001b[0m\u001b[0mmodel_and\u001b[0m\u001b[0;34m.\u001b[0m\u001b[0mtotal_loss\u001b[0m\u001b[0;34m(\u001b[0m\u001b[0;34m)\u001b[0m\u001b[0;34m\u001b[0m\u001b[0;34m\u001b[0m\u001b[0m\n",
            "\u001b[0;32m<ipython-input-10-6a0bc9461450>\u001b[0m in \u001b[0;36m__init__\u001b[0;34m(self, eta, epochs)\u001b[0m\n\u001b[1;32m      3\u001b[0m     \u001b[0;31m#np.random.seed(42)\u001b[0m\u001b[0;34m\u001b[0m\u001b[0;34m\u001b[0m\u001b[0;34m\u001b[0m\u001b[0m\n\u001b[1;32m      4\u001b[0m     \u001b[0mself\u001b[0m\u001b[0;34m.\u001b[0m\u001b[0mweight\u001b[0m \u001b[0;34m=\u001b[0m\u001b[0mnp\u001b[0m\u001b[0;34m.\u001b[0m\u001b[0mrandom\u001b[0m\u001b[0;34m.\u001b[0m\u001b[0mrandom\u001b[0m\u001b[0;34m(\u001b[0m\u001b[0;36m3\u001b[0m\u001b[0;34m)\u001b[0m\u001b[0;34m*\u001b[0m\u001b[0;36m1e-4\u001b[0m \u001b[0;31m# small weight initialize\u001b[0m\u001b[0;34m\u001b[0m\u001b[0;34m\u001b[0m\u001b[0m\n\u001b[0;32m----> 5\u001b[0;31m     \u001b[0mprint\u001b[0m\u001b[0;34m(\u001b[0m\u001b[0;34mf\"this is initial weight befor traing : {self.weights}\"\u001b[0m\u001b[0;34m)\u001b[0m\u001b[0;34m\u001b[0m\u001b[0;34m\u001b[0m\u001b[0m\n\u001b[0m\u001b[1;32m      6\u001b[0m     \u001b[0mself\u001b[0m\u001b[0;34m.\u001b[0m\u001b[0meta\u001b[0m \u001b[0;34m=\u001b[0m\u001b[0meta\u001b[0m\u001b[0;34m\u001b[0m\u001b[0;34m\u001b[0m\u001b[0m\n\u001b[1;32m      7\u001b[0m     \u001b[0mself\u001b[0m\u001b[0;34m.\u001b[0m\u001b[0mepochs\u001b[0m \u001b[0;34m=\u001b[0m \u001b[0mepochs\u001b[0m\u001b[0;34m\u001b[0m\u001b[0;34m\u001b[0m\u001b[0m\n",
            "\u001b[0;31mAttributeError\u001b[0m: 'Perceptron' object has no attribute 'weights'"
          ]
        }
      ]
    },
    {
      "cell_type": "code",
      "metadata": {
        "id": "5hCuyA6TUakc"
      },
      "source": [
        "x,y = prepare_data(df)"
      ],
      "execution_count": null,
      "outputs": []
    },
    {
      "cell_type": "code",
      "metadata": {
        "id": "X6LXIR0_U9lF"
      },
      "source": [
        "model.Predict(x)"
      ],
      "execution_count": null,
      "outputs": []
    },
    {
      "cell_type": "code",
      "metadata": {
        "id": "Qa80UZTdbAlr"
      },
      "source": [
        "x.values"
      ],
      "execution_count": null,
      "outputs": []
    },
    {
      "cell_type": "code",
      "metadata": {
        "id": "4ggNogelViw4"
      },
      "source": [
        "inputs =np.array([[1,1],[0,1]])\n",
        "model.predict(inputs)"
      ],
      "execution_count": null,
      "outputs": []
    },
    {
      "cell_type": "code",
      "metadata": {
        "id": "xa97QhPXYUjy"
      },
      "source": [
        "def save_model(model , filename):\n",
        "  model_dir = \"models\"\n",
        "  os.mkdirs(model_dir ,exist_ok =True) # only create if model_dir does not exist\n",
        "  filePath = os.path.join(model_dir,filename) #model\\filename\n",
        "  joblib.dump(model ,filePath)"
      ],
      "execution_count": null,
      "outputs": []
    },
    {
      "cell_type": "code",
      "metadata": {
        "id": "isH9GorQZ5QG"
      },
      "source": [
        "save_model(model,\"and.model\")"
      ],
      "execution_count": null,
      "outputs": []
    },
    {
      "cell_type": "code",
      "metadata": {
        "id": "m1obijk5aOgO"
      },
      "source": [
        "loaded_model =joblib.load(\"model\\and.model\")\n",
        "loaded_model.predict(inputs)"
      ],
      "execution_count": null,
      "outputs": []
    }
  ]
}